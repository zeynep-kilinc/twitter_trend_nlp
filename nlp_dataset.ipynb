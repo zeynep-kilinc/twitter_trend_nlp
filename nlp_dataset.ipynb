{
 "cells": [
  {
   "cell_type": "code",
   "execution_count": 1,
   "id": "5159b8eb-cf8f-41ad-aa16-a668dd9c22ed",
   "metadata": {},
   "outputs": [
    {
     "name": "stderr",
     "output_type": "stream",
     "text": [
      "C:\\Users\\hukus\\AppData\\Local\\Temp\\ipykernel_6328\\565678985.py:7: DtypeWarning: Columns (5,7,18,21,22,23,25,26) have mixed types. Specify dtype option on import or set low_memory=False.\n",
      "  df = pd.read_csv(dosya_yolu)\n"
     ]
    },
    {
     "name": "stdout",
     "output_type": "stream",
     "text": [
      "Temizlenmiş dosya başarıyla kaydedildi: C:\\Users\\hukus\\Downloads\\datasett\\dataset_temiz.csv\n"
     ]
    }
   ],
   "source": [
    "import pandas as pd\n",
    "\n",
    "# Dosya yolu\n",
    "dosya_yolu = r\"C:\\Users\\hukus\\Downloads\\datasett\\dataset.csv\"\n",
    "\n",
    "# Veriyi oku\n",
    "df = pd.read_csv(dosya_yolu)\n",
    "\n",
    "# Sadece 'date' ve 'content' sütunlarını tut\n",
    "df_temiz = df[['date', 'content']]\n",
    "\n",
    "# Temizlenmiş veriyi yeni bir dosyaya kaydet\n",
    "temiz_dosya_yolu = r\"C:\\Users\\hukus\\Downloads\\datasett\\dataset_temiz.csv\"\n",
    "df_temiz.to_csv(temiz_dosya_yolu, index=False, encoding='utf-8')\n",
    "\n",
    "print(\"Temizlenmiş dosya başarıyla kaydedildi:\", temiz_dosya_yolu)\n"
   ]
  },
  {
   "cell_type": "code",
   "execution_count": 5,
   "id": "2f962a7c-1128-4dbb-8ec8-99f39aceef1e",
   "metadata": {},
   "outputs": [
    {
     "data": {
      "text/html": [
       "<div>\n",
       "<style scoped>\n",
       "    .dataframe tbody tr th:only-of-type {\n",
       "        vertical-align: middle;\n",
       "    }\n",
       "\n",
       "    .dataframe tbody tr th {\n",
       "        vertical-align: top;\n",
       "    }\n",
       "\n",
       "    .dataframe thead th {\n",
       "        text-align: right;\n",
       "    }\n",
       "</style>\n",
       "<table border=\"1\" class=\"dataframe\">\n",
       "  <thead>\n",
       "    <tr style=\"text-align: right;\">\n",
       "      <th></th>\n",
       "      <th>date</th>\n",
       "      <th>content</th>\n",
       "    </tr>\n",
       "  </thead>\n",
       "  <tbody>\n",
       "    <tr>\n",
       "      <th>0</th>\n",
       "      <td>2022-01-01 23:59:59+00:00</td>\n",
       "      <td>I’m getting a sugar daddy this year!</td>\n",
       "    </tr>\n",
       "    <tr>\n",
       "      <th>1</th>\n",
       "      <td>2022-01-01 23:59:59+00:00</td>\n",
       "      <td>might make em french toast after and spoon a l...</td>\n",
       "    </tr>\n",
       "    <tr>\n",
       "      <th>2</th>\n",
       "      <td>2022-01-01 23:59:59+00:00</td>\n",
       "      <td>Our platform can be matched to your company’s ...</td>\n",
       "    </tr>\n",
       "    <tr>\n",
       "      <th>3</th>\n",
       "      <td>2022-01-01 23:59:59+00:00</td>\n",
       "      <td>Oh my God this first song. I can't with how am...</td>\n",
       "    </tr>\n",
       "    <tr>\n",
       "      <th>4</th>\n",
       "      <td>2022-01-01 23:59:59+00:00</td>\n",
       "      <td>Happy new year ! 😚🎉</td>\n",
       "    </tr>\n",
       "  </tbody>\n",
       "</table>\n",
       "</div>"
      ],
      "text/plain": [
       "                        date  \\\n",
       "0  2022-01-01 23:59:59+00:00   \n",
       "1  2022-01-01 23:59:59+00:00   \n",
       "2  2022-01-01 23:59:59+00:00   \n",
       "3  2022-01-01 23:59:59+00:00   \n",
       "4  2022-01-01 23:59:59+00:00   \n",
       "\n",
       "                                             content  \n",
       "0               I’m getting a sugar daddy this year!  \n",
       "1  might make em french toast after and spoon a l...  \n",
       "2  Our platform can be matched to your company’s ...  \n",
       "3  Oh my God this first song. I can't with how am...  \n",
       "4                                Happy new year ! 😚🎉  "
      ]
     },
     "execution_count": 5,
     "metadata": {},
     "output_type": "execute_result"
    }
   ],
   "source": [
    "import pandas as pd\n",
    "\n",
    "# Dosya yolu\n",
    "file_path = r\"C:\\Users\\hukus\\Downloads\\datasett\\dataset_temiz.csv\"\n",
    "\n",
    "# Sadece 'date' ve 'content' sütunlarını alarak yükleme \n",
    "df = pd.read_csv(file_path, usecols=[\"date\", \"content\"])\n",
    "\n",
    "# İlk 5 satırı göster\n",
    "df.head()"
   ]
  },
  {
   "cell_type": "code",
   "execution_count": 3,
   "id": "d197ddad-ac42-4933-88b0-5ea63d00850a",
   "metadata": {},
   "outputs": [
    {
     "name": "stdout",
     "output_type": "stream",
     "text": [
      "Dosya boyutu: 66.89 MB\n",
      "Dosya formatı: .csv\n",
      "Toplam doküman sayısı: 547496\n"
     ]
    }
   ],
   "source": [
    "import os\n",
    "import pandas as pd\n",
    "\n",
    "# Dosya yolu\n",
    "file_path = r\"C:\\Users\\hukus\\Downloads\\datasett\\dataset_temiz.csv\"\n",
    "\n",
    "# 1. Dosya boyutu (MB cinsinden)\n",
    "file_size = os.path.getsize(file_path) / (1024 * 1024)\n",
    "print(f\"Dosya boyutu: {file_size:.2f} MB\")\n",
    "\n",
    "# 2. Dosya formatı\n",
    "file_format = os.path.splitext(file_path)[-1].lower()\n",
    "print(f\"Dosya formatı: {file_format}\")\n",
    "\n",
    "# 3. Toplam doküman sayısı (satır sayısı)\n",
    "df = pd.read_csv(file_path)\n",
    "print(f\"Toplam doküman sayısı: {len(df)}\")"
   ]
  },
  {
   "cell_type": "code",
   "execution_count": 16,
   "id": "e48c70e3-8bd3-4386-a181-0fe6ab555617",
   "metadata": {},
   "outputs": [
    {
     "data": {
      "text/plain": [
       "(547481, 2)"
      ]
     },
     "execution_count": 16,
     "metadata": {},
     "output_type": "execute_result"
    }
   ],
   "source": [
    "# Tarih sütununu datetime formatına çevir (hatalı tarihleri NaT yapar)\n",
    "df['date'] = pd.to_datetime(df['date'], errors='coerce')\n",
    "\n",
    "# Geçersiz (NaT) tarihleri ve boş content hücrelerini düşür\n",
    "df = df.dropna(subset=['date', 'content'])\n",
    "\n",
    "# Temizlenmiş veri setinin boyutu\n",
    "df.shape\n"
   ]
  },
  {
   "cell_type": "code",
   "execution_count": 17,
   "id": "abe0e44f-1ad7-4253-8bcc-91daac78a8bc",
   "metadata": {},
   "outputs": [
    {
     "name": "stdout",
     "output_type": "stream",
     "text": [
      "Farklı gün sayısı: 365\n"
     ]
    }
   ],
   "source": [
    "# Tarihleri sadece 'gün' bazında al (saat/dakika olmadan)\n",
    "df['day'] = df['date'].dt.date\n",
    "\n",
    "# Kaç farklı gün olduğunu say\n",
    "farkli_gun_sayisi = df['day'].nunique()\n",
    "print(f\"Farklı gün sayısı: {farkli_gun_sayisi}\")\n"
   ]
  },
  {
   "cell_type": "code",
   "execution_count": 18,
   "id": "1ef12cf3-703a-4a8c-9943-785353e325ac",
   "metadata": {},
   "outputs": [
    {
     "name": "stdout",
     "output_type": "stream",
     "text": [
      "Veri aralığı: 2022-01-01 23:59:35+00:00 - 2022-12-31 23:59:59+00:00\n"
     ]
    }
   ],
   "source": [
    "en_erkenci_tarih = df['date'].min()\n",
    "en_gec_tarih = df['date'].max()\n",
    "\n",
    "print(f\"Veri aralığı: {en_erkenci_tarih} - {en_gec_tarih}\")\n"
   ]
  },
  {
   "cell_type": "code",
   "execution_count": 19,
   "id": "945ee11b-6240-4130-a838-ab5d4821ecf9",
   "metadata": {},
   "outputs": [
    {
     "name": "stdout",
     "output_type": "stream",
     "text": [
      "Günlük ortalama tweet sayısı: 1499.95\n"
     ]
    }
   ],
   "source": [
    "# Günlük tweet sayısını hesapla\n",
    "gunluk_tweet_sayisi = df.groupby('day').size()\n",
    "\n",
    "# Ortalama hesapla\n",
    "gunluk_ortalama = gunluk_tweet_sayisi.mean()\n",
    "\n",
    "print(f\"Günlük ortalama tweet sayısı: {gunluk_ortalama:.2f}\")"
   ]
  },
  {
   "cell_type": "code",
   "execution_count": 27,
   "id": "78b9dd41-c693-4fe2-9fe5-ba3adf398141",
   "metadata": {},
   "outputs": [
    {
     "name": "stderr",
     "output_type": "stream",
     "text": [
      "[nltk_data] Downloading package punkt to\n",
      "[nltk_data]     C:\\Users\\hukus\\AppData\\Roaming\\nltk_data...\n",
      "[nltk_data]   Package punkt is already up-to-date!\n"
     ]
    },
    {
     "data": {
      "text/plain": [
       "True"
      ]
     },
     "execution_count": 27,
     "metadata": {},
     "output_type": "execute_result"
    }
   ],
   "source": [
    "import nltk\n",
    "nltk.download('punkt')\n"
   ]
  },
  {
   "cell_type": "code",
   "execution_count": 35,
   "id": "e771253a-6703-4c38-9d1e-c6caf221167a",
   "metadata": {
    "collapsed": true,
    "jupyter": {
     "outputs_hidden": true
    }
   },
   "outputs": [
    {
     "name": "stderr",
     "output_type": "stream",
     "text": [
      "[nltk_data] Downloading package punkt_tab to\n",
      "[nltk_data]     C:\\Users\\hukus\\AppData\\Roaming\\nltk_data...\n",
      "[nltk_data]   Unzipping tokenizers\\punkt_tab.zip.\n"
     ]
    },
    {
     "data": {
      "text/plain": [
       "True"
      ]
     },
     "execution_count": 35,
     "metadata": {},
     "output_type": "execute_result"
    }
   ],
   "source": [
    "import nltk\n",
    "nltk.download('punkt_tab')\n"
   ]
  },
  {
   "cell_type": "code",
   "execution_count": 40,
   "id": "385ebee5-1c5f-4af8-8ca8-55af40ef5971",
   "metadata": {},
   "outputs": [
    {
     "name": "stderr",
     "output_type": "stream",
     "text": [
      "[nltk_data] Downloading package punkt to\n",
      "[nltk_data]     C:\\Users\\hukus\\AppData\\Roaming\\nltk_data...\n",
      "[nltk_data]   Package punkt is already up-to-date!\n",
      "[nltk_data] Downloading package stopwords to\n",
      "[nltk_data]     C:\\Users\\hukus\\AppData\\Roaming\\nltk_data...\n",
      "[nltk_data]   Package stopwords is already up-to-date!\n"
     ]
    },
    {
     "name": "stdout",
     "output_type": "stream",
     "text": [
      "                                              content  \\\n",
      "0                I’m getting a sugar daddy this year!   \n",
      "1   might make em french toast after and spoon a l...   \n",
      "2   Our platform can be matched to your company’s ...   \n",
      "3   Oh my God this first song. I can't with how am...   \n",
      "4                                 Happy new year ! 😚🎉   \n",
      "5   Seeing John Oliver at the Kennedy center! http...   \n",
      "6   Everyone should go watch Nuclear Family on HBO...   \n",
      "7                           Real pero real real! 🤣🤣🤣🤣   \n",
      "8   Dear diary,\\n\\nShe tried to steal my notebook,...   \n",
      "9   Last year was wild. But damn, I understood mys...   \n",
      "10  “Never limit yourself because of others’ limit...   \n",
      "11                      quack https://t.co/M8iVui1wDf   \n",
      "12  cry as much as you can, its a competition, and...   \n",
      "13  Go to the barbershop and cut my name in you ha...   \n",
      "14  i won jackbox the other day https://t.co/4y4jK...   \n",
      "15  Happy Independence Day Haiti 1804-2022 (218 yr...   \n",
      "16  Same vibes 🤍\\n#SUNGHOON\\n#성훈 #엔하이픈_성훈  #ENHYPE...   \n",
      "17  My dad started reading my book while he's in t...   \n",
      "18  In other news played Fort for the first time i...   \n",
      "19  coming out as a joanne stan https://t.co/DNfGz...   \n",
      "\n",
      "                                        content_clean  \n",
      "0                            getting sugar daddy year  \n",
      "1                might make french toast spoon little  \n",
      "2   platform matched companys brand adding persona...  \n",
      "3   god first song cant amazing chick live hitting...  \n",
      "4                                      happy new year  \n",
      "5                   seeing john oliver kennedy center  \n",
      "6   everyone watch nuclear family hbo amazing amaz...  \n",
      "7                                 real pero real real  \n",
      "8   dear diary tried steal notebook put name give ...  \n",
      "9   last year wild damn understood became spiritua...  \n",
      "10  never limit others limited imagination never l...  \n",
      "11                                              quack  \n",
      "12             cry much competition dont step gon win  \n",
      "13                barbershop cut name hair kinda love  \n",
      "14                                        jackbox day  \n",
      "15                   happy independence day haiti yrs  \n",
      "16                      vibes good morning good night  \n",
      "17  dad started reading book hes acute rehab facil...  \n",
      "18              news played fort first time years fun  \n",
      "19                                 coming joanne stan  \n"
     ]
    }
   ],
   "source": [
    "import pandas as pd\n",
    "import re\n",
    "import string\n",
    "import nltk\n",
    "from nltk.corpus import stopwords\n",
    "from nltk.tokenize import word_tokenize\n",
    "\n",
    "# Gerekli NLTK verilerini indir \n",
    "nltk.download('punkt')\n",
    "nltk.download('stopwords')\n",
    "\n",
    "# İngilizce stopword listesi\n",
    "stop_words = set(stopwords.words('english'))\n",
    "\n",
    "def temizle_metni(metin):\n",
    "    # Eğer metin NaN (boş) ise, işlemi geç\n",
    "    if not isinstance(metin, str):\n",
    "        return \"\"\n",
    "    \n",
    "    # Küçük harfe çevir\n",
    "    metin = metin.lower()\n",
    "\n",
    "    # URL, mention, hashtag ve emoji sil\n",
    "    metin = re.sub(r'http\\S+|www\\S+|https\\S+', '', metin)\n",
    "    metin = re.sub(r'@\\w+|#\\w+', '', metin)\n",
    "    metin = re.sub(r'[^\\x00-\\x7F]+', '', metin)\n",
    "\n",
    "    # Noktalama işaretleri ve sayıları temizle\n",
    "    metin = metin.translate(str.maketrans('', '', string.punctuation))\n",
    "    metin = re.sub(r'\\d+', '', metin)\n",
    "\n",
    "    # Tokenize işlemi (tek satır olarak)\n",
    "    kelimeler = word_tokenize(metin)\n",
    "\n",
    "    # Stopword'leri ve kısa kelimeleri kaldır\n",
    "    kelimeler = [kelime for kelime in kelimeler if kelime not in stop_words and len(kelime) > 2]\n",
    "\n",
    "    return ' '.join(kelimeler)\n",
    "\n",
    "# Veriyi yükle\n",
    "df = pd.read_csv(\"C:/Users/hukus/Downloads/datasett/dataset_temiz.csv\")\n",
    "\n",
    "# Temizleme işlemini uygulayıp yeni sütunu oluştur\n",
    "df['content_clean'] = df['content'].apply(temizle_metni)\n",
    "\n",
    "# Değişiklikleri yeni bir CSV dosyasına kaydet\n",
    "df.to_csv(\"C:/Users/hukus/Downloads/datasett/content_clean_versiyon.csv\", index=False)\n",
    "\n",
    "# Temizlenmiş verinin ilk 20 satırını görüntüle\n",
    "print(df[['content', 'content_clean']].head(20))\n"
   ]
  },
  {
   "cell_type": "code",
   "execution_count": 47,
   "id": "6b2905f5-6238-4d16-b9bf-aa0f1a5bac37",
   "metadata": {},
   "outputs": [
    {
     "name": "stderr",
     "output_type": "stream",
     "text": [
      "[nltk_data] Downloading package averaged_perceptron_tagger to\n",
      "[nltk_data]     C:\\Users\\hukus\\AppData\\Roaming\\nltk_data...\n",
      "[nltk_data]   Package averaged_perceptron_tagger is already up-to-\n",
      "[nltk_data]       date!\n"
     ]
    },
    {
     "data": {
      "text/plain": [
       "True"
      ]
     },
     "execution_count": 47,
     "metadata": {},
     "output_type": "execute_result"
    }
   ],
   "source": [
    "import nltk\n",
    "nltk.download('averaged_perceptron_tagger')"
   ]
  },
  {
   "cell_type": "code",
   "execution_count": 14,
   "id": "5c2b5579-4975-40d0-8d59-e4e6255c8030",
   "metadata": {},
   "outputs": [
    {
     "name": "stderr",
     "output_type": "stream",
     "text": [
      "[nltk_data] Downloading package punkt to\n",
      "[nltk_data]     C:\\Users\\hukus\\AppData\\Roaming\\nltk_data...\n",
      "[nltk_data]   Package punkt is already up-to-date!\n",
      "[nltk_data] Downloading package wordnet to\n",
      "[nltk_data]     C:\\Users\\hukus\\AppData\\Roaming\\nltk_data...\n",
      "[nltk_data]   Package wordnet is already up-to-date!\n",
      "[nltk_data] Downloading package omw-1.4 to\n",
      "[nltk_data]     C:\\Users\\hukus\\AppData\\Roaming\\nltk_data...\n",
      "[nltk_data]   Package omw-1.4 is already up-to-date!\n"
     ]
    },
    {
     "name": "stdout",
     "output_type": "stream",
     "text": [
      "                                        content_clean  \\\n",
      "0                            getting sugar daddy year   \n",
      "1                might make french toast spoon little   \n",
      "2   platform matched companys brand adding persona...   \n",
      "3   god first song cant amazing chick live hitting...   \n",
      "4                                      happy new year   \n",
      "5                   seeing john oliver kennedy center   \n",
      "6   everyone watch nuclear family hbo amazing amaz...   \n",
      "7                                 real pero real real   \n",
      "8   dear diary tried steal notebook put name give ...   \n",
      "9   last year wild damn understood became spiritua...   \n",
      "10  never limit others limited imagination never l...   \n",
      "11                                              quack   \n",
      "12             cry much competition dont step gon win   \n",
      "13                barbershop cut name hair kinda love   \n",
      "14                                        jackbox day   \n",
      "15                   happy independence day haiti yrs   \n",
      "16                      vibes good morning good night   \n",
      "17  dad started reading book hes acute rehab facil...   \n",
      "18              news played fort first time years fun   \n",
      "19                                 coming joanne stan   \n",
      "\n",
      "                                        content_lemma  \n",
      "0                            getting sugar daddy year  \n",
      "1                might make french toast spoon little  \n",
      "2   platform matched company brand adding personal...  \n",
      "3   god first song cant amazing chick live hitting...  \n",
      "4                                      happy new year  \n",
      "5                   seeing john oliver kennedy center  \n",
      "6   everyone watch nuclear family hbo amazing amaz...  \n",
      "7                                 real pero real real  \n",
      "8   dear diary tried steal notebook put name give ...  \n",
      "9   last year wild damn understood became spiritua...  \n",
      "10  never limit others limited imagination never l...  \n",
      "11                                              quack  \n",
      "12             cry much competition dont step gon win  \n",
      "13                barbershop cut name hair kinda love  \n",
      "14                                        jackbox day  \n",
      "15                    happy independence day haiti yr  \n",
      "16                       vibe good morning good night  \n",
      "17  dad started reading book he acute rehab facili...  \n",
      "18               news played fort first time year fun  \n",
      "19                                 coming joanne stan  \n"
     ]
    }
   ],
   "source": [
    "import pandas as pd\n",
    "import nltk\n",
    "from nltk.stem import WordNetLemmatizer\n",
    "from nltk.tokenize import word_tokenize\n",
    "\n",
    "# Gerekli NLTK verilerini indir\n",
    "nltk.download('punkt')\n",
    "nltk.download('wordnet')\n",
    "nltk.download('omw-1.4')  # WordNet için ek veri\n",
    "\n",
    "# Lemmatizer tanımla\n",
    "lemmatizer = WordNetLemmatizer()\n",
    "\n",
    "# Veriyi oku\n",
    "df = pd.read_csv(\"C:/Users/hukus/Downloads/datasett/content_clean_versiyon.csv\")\n",
    "\n",
    "def lemmatize_text(text):\n",
    "    if not isinstance(text, str):\n",
    "        return \"\"\n",
    "    tokens = word_tokenize(text)\n",
    "    lemmatized_tokens = [lemmatizer.lemmatize(token) for token in tokens]\n",
    "    return ' '.join(lemmatized_tokens)\n",
    "\n",
    "# Lemmatization uygula\n",
    "df['content_lemma'] = df['content_clean'].apply(lemmatize_text)\n",
    "\n",
    "# Dosyayı kaydet\n",
    "df.to_csv(\"C:/Users/hukus/Downloads/datasett/lemma_dataset.csv\", index=False)\n",
    "\n",
    "# İlk 20 satırı göster\n",
    "print(df[['content_clean', 'content_lemma']].head(20))\n"
   ]
  },
  {
   "cell_type": "code",
   "execution_count": 24,
   "id": "9d0df18b-7860-4c05-b7d7-7c1385620b58",
   "metadata": {},
   "outputs": [
    {
     "name": "stderr",
     "output_type": "stream",
     "text": [
      "[nltk_data] Downloading package punkt to\n",
      "[nltk_data]     C:\\Users\\hukus\\AppData\\Roaming\\nltk_data...\n",
      "[nltk_data]   Package punkt is already up-to-date!\n"
     ]
    },
    {
     "name": "stdout",
     "output_type": "stream",
     "text": [
      "                                        content_clean  \\\n",
      "0                            getting sugar daddy year   \n",
      "1                might make french toast spoon little   \n",
      "2   platform matched companys brand adding persona...   \n",
      "3   god first song cant amazing chick live hitting...   \n",
      "4                                      happy new year   \n",
      "5                   seeing john oliver kennedy center   \n",
      "6   everyone watch nuclear family hbo amazing amaz...   \n",
      "7                                 real pero real real   \n",
      "8   dear diary tried steal notebook put name give ...   \n",
      "9   last year wild damn understood became spiritua...   \n",
      "10  never limit others limited imagination never l...   \n",
      "11                                              quack   \n",
      "12             cry much competition dont step gon win   \n",
      "13                barbershop cut name hair kinda love   \n",
      "14                                        jackbox day   \n",
      "15                   happy independence day haiti yrs   \n",
      "16                      vibes good morning good night   \n",
      "17  dad started reading book hes acute rehab facil...   \n",
      "18              news played fort first time years fun   \n",
      "19                                 coming joanne stan   \n",
      "\n",
      "                                         content_stem  \n",
      "0                                get sugar daddi year  \n",
      "1                 might make french toast spoon littl  \n",
      "2   platform match compani brand ad person logo ur...  \n",
      "3   god first song cant amaz chick live hit note s...  \n",
      "4                                      happi new year  \n",
      "5                        see john oliv kennedi center  \n",
      "6   everyon watch nuclear famili hbo amaz amaz doc...  \n",
      "7                                 real pero real real  \n",
      "8   dear diari tri steal notebook put name give bo...  \n",
      "9   last year wild damn understood becam spiritu b...  \n",
      "10  never limit other limit imagin never limit oth...  \n",
      "11                                              quack  \n",
      "12                cri much competit dont step gon win  \n",
      "13                barbershop cut name hair kinda love  \n",
      "14                                        jackbox day  \n",
      "15                        happi independ day haiti yr  \n",
      "16                          vibe good morn good night  \n",
      "17  dad start read book he acut rehab facil said w...  \n",
      "18                 news play fort first time year fun  \n",
      "19                                    come joann stan  \n"
     ]
    }
   ],
   "source": [
    "import pandas as pd\n",
    "import nltk\n",
    "from nltk.stem import PorterStemmer\n",
    "from nltk.tokenize import word_tokenize\n",
    "\n",
    "# Gerekli NLTK verilerini indir\n",
    "nltk.download('punkt')\n",
    "\n",
    "# Stemmer tanımla\n",
    "stemmer = PorterStemmer()\n",
    "\n",
    "# Veriyi oku\n",
    "df = pd.read_csv(\"C:/Users/hukus/Downloads/datasett/lemma_dataset.csv\")\n",
    "\n",
    "def stem_text(text):\n",
    "    if not isinstance(text, str):\n",
    "        return \"\"\n",
    "    tokens = word_tokenize(text)\n",
    "    stemmed_tokens = [stemmer.stem(token) for token in tokens]\n",
    "    return ' '.join(stemmed_tokens)\n",
    "\n",
    "# Stemleme uygula\n",
    "df['content_stem'] = df['content_clean'].apply(stem_text)\n",
    "\n",
    "# Dosyayı kaydet\n",
    "df.to_csv(\"C:/Users/hukus/Downloads/datasett/lemma_stem_dataset.csv\", index=False)\n",
    "\n",
    "# İlk 20 satırı göster\n",
    "print(df[['content_clean', 'content_stem']].head(20))\n"
   ]
  },
  {
   "cell_type": "code",
   "execution_count": 4,
   "id": "f1d24c55-d3c4-4b64-bc7a-774d6082b266",
   "metadata": {},
   "outputs": [
    {
     "name": "stderr",
     "output_type": "stream",
     "text": [
      "[nltk_data] Downloading package punkt to\n",
      "[nltk_data]     C:\\Users\\hukus\\AppData\\Roaming\\nltk_data...\n",
      "[nltk_data]   Package punkt is already up-to-date!\n"
     ]
    },
    {
     "data": {
      "text/html": [
       "<div>\n",
       "<style scoped>\n",
       "    .dataframe tbody tr th:only-of-type {\n",
       "        vertical-align: middle;\n",
       "    }\n",
       "\n",
       "    .dataframe tbody tr th {\n",
       "        vertical-align: top;\n",
       "    }\n",
       "\n",
       "    .dataframe thead th {\n",
       "        text-align: right;\n",
       "    }\n",
       "</style>\n",
       "<table border=\"1\" class=\"dataframe\">\n",
       "  <thead>\n",
       "    <tr style=\"text-align: right;\">\n",
       "      <th></th>\n",
       "      <th>date</th>\n",
       "      <th>content</th>\n",
       "      <th>content_clean</th>\n",
       "      <th>content_lemma</th>\n",
       "      <th>content_stem</th>\n",
       "    </tr>\n",
       "  </thead>\n",
       "  <tbody>\n",
       "    <tr>\n",
       "      <th>0</th>\n",
       "      <td>2022-01-01 23:59:59+00:00</td>\n",
       "      <td>I’m getting a sugar daddy this year!</td>\n",
       "      <td>getting sugar daddy year</td>\n",
       "      <td>getting sugar daddy year</td>\n",
       "      <td>get sugar daddi year</td>\n",
       "    </tr>\n",
       "    <tr>\n",
       "      <th>1</th>\n",
       "      <td>2022-01-01 23:59:59+00:00</td>\n",
       "      <td>might make em french toast after and spoon a l...</td>\n",
       "      <td>might make french toast spoon little</td>\n",
       "      <td>might make french toast spoon little</td>\n",
       "      <td>might make french toast spoon littl</td>\n",
       "    </tr>\n",
       "    <tr>\n",
       "      <th>2</th>\n",
       "      <td>2022-01-01 23:59:59+00:00</td>\n",
       "      <td>Our platform can be matched to your company’s ...</td>\n",
       "      <td>platform matched companys brand adding persona...</td>\n",
       "      <td>platform matched company brand adding personal...</td>\n",
       "      <td>platform match compani brand ad person logo ur...</td>\n",
       "    </tr>\n",
       "    <tr>\n",
       "      <th>3</th>\n",
       "      <td>2022-01-01 23:59:59+00:00</td>\n",
       "      <td>Oh my God this first song. I can't with how am...</td>\n",
       "      <td>god first song cant amazing chick live hitting...</td>\n",
       "      <td>god first song cant amazing chick live hitting...</td>\n",
       "      <td>god first song cant amaz chick live hit note s...</td>\n",
       "    </tr>\n",
       "    <tr>\n",
       "      <th>4</th>\n",
       "      <td>2022-01-01 23:59:59+00:00</td>\n",
       "      <td>Happy new year ! 😚🎉</td>\n",
       "      <td>happy new year</td>\n",
       "      <td>happy new year</td>\n",
       "      <td>happi new year</td>\n",
       "    </tr>\n",
       "  </tbody>\n",
       "</table>\n",
       "</div>"
      ],
      "text/plain": [
       "                        date  \\\n",
       "0  2022-01-01 23:59:59+00:00   \n",
       "1  2022-01-01 23:59:59+00:00   \n",
       "2  2022-01-01 23:59:59+00:00   \n",
       "3  2022-01-01 23:59:59+00:00   \n",
       "4  2022-01-01 23:59:59+00:00   \n",
       "\n",
       "                                             content  \\\n",
       "0               I’m getting a sugar daddy this year!   \n",
       "1  might make em french toast after and spoon a l...   \n",
       "2  Our platform can be matched to your company’s ...   \n",
       "3  Oh my God this first song. I can't with how am...   \n",
       "4                                Happy new year ! 😚🎉   \n",
       "\n",
       "                                       content_clean  \\\n",
       "0                           getting sugar daddy year   \n",
       "1               might make french toast spoon little   \n",
       "2  platform matched companys brand adding persona...   \n",
       "3  god first song cant amazing chick live hitting...   \n",
       "4                                     happy new year   \n",
       "\n",
       "                                       content_lemma  \\\n",
       "0                           getting sugar daddy year   \n",
       "1               might make french toast spoon little   \n",
       "2  platform matched company brand adding personal...   \n",
       "3  god first song cant amazing chick live hitting...   \n",
       "4                                     happy new year   \n",
       "\n",
       "                                        content_stem  \n",
       "0                               get sugar daddi year  \n",
       "1                might make french toast spoon littl  \n",
       "2  platform match compani brand ad person logo ur...  \n",
       "3  god first song cant amaz chick live hit note s...  \n",
       "4                                     happi new year  "
      ]
     },
     "execution_count": 4,
     "metadata": {},
     "output_type": "execute_result"
    }
   ],
   "source": [
    "# Gerekli kütüphaneler\n",
    "import pandas as pd\n",
    "from gensim.models import Word2Vec\n",
    "import nltk\n",
    "\n",
    "# nltk tokenizer indir\n",
    "nltk.download('punkt')\n",
    "\n",
    "# CSV dosyasını oku\n",
    "df = pd.read_csv(r\"C:\\Users\\hukus\\Downloads\\datasett\\lemma_stem_dataset.csv\")\n",
    "\n",
    "# İlk 5 satır\n",
    "df.head()\n"
   ]
  },
  {
   "cell_type": "code",
   "execution_count": 2,
   "id": "7b9ff1f3-838d-4e4a-80f0-47c740d2e5cb",
   "metadata": {},
   "outputs": [
    {
     "name": "stdout",
     "output_type": "stream",
     "text": [
      "Model saved: lemmatized_model_cbow_window2_dim100.model\n",
      "Model saved: lemmatized_model_skipgram_window2_dim100.model\n",
      "Model saved: lemmatized_model_cbow_window4_dim100.model\n",
      "Model saved: lemmatized_model_skipgram_window4_dim100.model\n",
      "Model saved: lemmatized_model_cbow_window2_dim300.model\n",
      "Model saved: lemmatized_model_skipgram_window2_dim300.model\n",
      "Model saved: lemmatized_model_cbow_window4_dim300.model\n",
      "Model saved: lemmatized_model_skipgram_window4_dim300.model\n",
      "Model saved: stemmed_model_cbow_window2_dim100.model\n",
      "Model saved: stemmed_model_skipgram_window2_dim100.model\n",
      "Model saved: stemmed_model_cbow_window4_dim100.model\n",
      "Model saved: stemmed_model_skipgram_window4_dim100.model\n",
      "Model saved: stemmed_model_cbow_window2_dim300.model\n",
      "Model saved: stemmed_model_skipgram_window2_dim300.model\n",
      "Model saved: stemmed_model_cbow_window4_dim300.model\n",
      "Model saved: stemmed_model_skipgram_window4_dim300.model\n"
     ]
    }
   ],
   "source": [
    "import pandas as pd\n",
    "import os\n",
    "from gensim.models import Word2Vec\n",
    "\n",
    "# Dosya yolu\n",
    "dataset_path = r\"C:\\Users\\hukus\\Downloads\\datasett\\lemma_stem_dataset.csv\"\n",
    "save_dir = r\"C:\\Users\\hukus\\Downloads\\datasett\\models\"\n",
    "\n",
    "# Klasör yoksa oluştur\n",
    "os.makedirs(save_dir, exist_ok=True)\n",
    "\n",
    "# CSV dosyasını oku\n",
    "df = pd.read_csv(dataset_path)\n",
    "\n",
    "# content_lemma ve content_stem sütunlarını listele\n",
    "lemma_corpus = df['content_lemma'].dropna().apply(lambda x: x.split()).tolist()\n",
    "stem_corpus = df['content_stem'].dropna().apply(lambda x: x.split()).tolist()\n",
    "\n",
    "# Word2Vec parametreleri\n",
    "parameters = [\n",
    "    {'model_type': 'cbow', 'window': 2, 'vector_size': 100},\n",
    "    {'model_type': 'skipgram', 'window': 2, 'vector_size': 100},\n",
    "    {'model_type': 'cbow', 'window': 4, 'vector_size': 100},\n",
    "    {'model_type': 'skipgram', 'window': 4, 'vector_size': 100},\n",
    "    {'model_type': 'cbow', 'window': 2, 'vector_size': 300},\n",
    "    {'model_type': 'skipgram', 'window': 2, 'vector_size': 300},\n",
    "    {'model_type': 'cbow', 'window': 4, 'vector_size': 300},\n",
    "    {'model_type': 'skipgram', 'window': 4, 'vector_size': 300}\n",
    "]\n",
    "\n",
    "# Word2Vec eğitimi ve kaydetme fonksiyonu\n",
    "def train_and_save_model(corpus, params, model_name_prefix):\n",
    "    model = Word2Vec(\n",
    "        sentences=corpus,\n",
    "        vector_size=params['vector_size'],\n",
    "        window=params['window'],\n",
    "        min_count=1,\n",
    "        sg=1 if params['model_type'] == 'skipgram' else 0\n",
    "    )\n",
    "    model_filename = f\"{model_name_prefix}_{params['model_type']}_window{params['window']}_dim{params['vector_size']}.model\"\n",
    "    model.save(os.path.join(save_dir, model_filename))\n",
    "    print(f\"Model saved: {model_filename}\")\n",
    "\n",
    "# Lemmatize edilmiş corpus için modeller\n",
    "for param in parameters:\n",
    "    train_and_save_model(lemma_corpus, param, \"lemmatized_model\")\n",
    "\n",
    "# Stem edilmiş corpus için modeller\n",
    "for param in parameters:\n",
    "    train_and_save_model(stem_corpus, param, \"stemmed_model\")"
   ]
  },
  {
   "cell_type": "code",
   "execution_count": 3,
   "id": "8f8471b8-721a-4e56-a6f6-de65cc46755e",
   "metadata": {},
   "outputs": [
    {
     "name": "stdout",
     "output_type": "stream",
     "text": [
      "\n",
      "Lemmatized Model Cbow Window2 Dim100 Modeli - 'year' ile En Benzer 3 Kelime:\n",
      "Kelime: decade, Benzerlik Skoru: 0.8888677954673767\n",
      "Kelime: month, Benzerlik Skoru: 0.8669477701187134\n",
      "Kelime: yr, Benzerlik Skoru: 0.8576725125312805\n",
      "\n",
      "Stemmed Model Skipgram Window4 Dim100 Modeli - 'year' ile En Benzer 3 Kelime:\n",
      "Kelime: month, Benzerlik Skoru: 0.89000004529953\n",
      "Kelime: decad, Benzerlik Skoru: 0.8758276104927063\n",
      "Kelime: yr, Benzerlik Skoru: 0.8702577948570251\n",
      "\n",
      "Lemmatized Model Skipgram Window2 Dim300 Modeli - 'year' ile En Benzer 3 Kelime:\n",
      "Kelime: decade, Benzerlik Skoru: 0.809527575969696\n",
      "Kelime: yr, Benzerlik Skoru: 0.7980549931526184\n",
      "Kelime: month, Benzerlik Skoru: 0.7364195585250854\n"
     ]
    }
   ],
   "source": [
    "from gensim.models import Word2Vec\n",
    "import os\n",
    "\n",
    "# Model klasörü\n",
    "models_dir = r\"C:\\Users\\hukus\\Downloads\\datasett\\models\"\n",
    "\n",
    "# Kullanılacak model dosyaları\n",
    "model_files = [\n",
    "    \"lemmatized_model_cbow_window2_dim100.model\",\n",
    "    \"stemmed_model_skipgram_window4_dim100.model\",\n",
    "    \"lemmatized_model_skipgram_window2_dim300.model\"\n",
    "]\n",
    "\n",
    "# Kullanacağımız kelime\n",
    "query_word = 'year'\n",
    "\n",
    "# 'year' kelimesi ile en benzer 3 kelimeyi yazdırmak\n",
    "def print_similar_words(model, model_name):\n",
    "    if query_word in model.wv:\n",
    "        similarity = model.wv.most_similar(query_word, topn=3)\n",
    "        print(f\"\\n{model_name} Modeli - '{query_word}' ile En Benzer 3 Kelime:\")\n",
    "        for word, score in similarity:\n",
    "            print(f\"Kelime: {word}, Benzerlik Skoru: {score}\")\n",
    "    else:\n",
    "        print(f\"\\n{model_name} Modeli: '{query_word}' kelimesi bulunamadı!\")\n",
    "\n",
    "# 3 modeli sırayla yükleyip benzer kelimeleri yazdır\n",
    "for model_file in model_files:\n",
    "    model_path = os.path.join(models_dir, model_file)\n",
    "    model = Word2Vec.load(model_path)\n",
    "    \n",
    "    # Model adı düzenleme\n",
    "    model_name = model_file.replace(\".model\", \"\").replace(\"_\", \" \").title()\n",
    "    \n",
    "    print_similar_words(model, model_name)"
   ]
  },
  {
   "cell_type": "code",
   "execution_count": 12,
   "id": "ce01e7b8-fba3-438e-b121-1d108b40e3a2",
   "metadata": {},
   "outputs": [
    {
     "name": "stdout",
     "output_type": "stream",
     "text": [
      "İlk tweet'te en yüksek TF-IDF skoruna sahip 5 kelime:\n",
      "sugar: 0.6150\n",
      "daddy: 0.5845\n",
      "getting: 0.4014\n",
      "year: 0.3451\n",
      "\n",
      "'year' kelimesine en benzer 5 kelime (cosine similarity):\n",
      "year: 1.0000\n",
      "ago: 0.1816\n",
      "old: 0.1375\n",
      "new: 0.1234\n",
      "happy: 0.0975\n",
      "last: 0.0831\n"
     ]
    }
   ],
   "source": [
    "import pandas as pd\n",
    "from sklearn.feature_extraction.text import TfidfVectorizer\n",
    "from sklearn.metrics.pairwise import cosine_similarity\n",
    "import pickle\n",
    "import os\n",
    "import numpy as np\n",
    "\n",
    "# 1. Veri setini oku\n",
    "dosya_yolu = r\"C:\\Users\\hukus\\Downloads\\datasett\\lemma_stem_dataset.csv\"\n",
    "df = pd.read_csv(dosya_yolu)\n",
    "\n",
    "# 2. Lemmatize edilmiş tweet'leri liste olarak al\n",
    "lemmatized_texts = df['content_lemma'].astype(str).tolist()\n",
    "\n",
    "# 3. TF-IDF vektörizerı başlat ve eğit\n",
    "vectorizer = TfidfVectorizer()\n",
    "tfidf_matrix = vectorizer.fit_transform(lemmatized_texts)\n",
    "\n",
    "# Not: TF-IDF matrisi büyük olduğu için hata verdi bundan dolayı\"seyrek matris\" (sparse matrix) olarak tuttum.\n",
    "# Bu yapı sadece sıfır olmayan değerleri belleğe alır ve çok büyük veri kümelerinde RAM kullanımını ciddi şekilde azaltır.\n",
    "\n",
    "# 4. Modeli ve vektörleri kaydet\n",
    "kayit_klasoru = \"tf_idf_models\"\n",
    "os.makedirs(kayit_klasoru, exist_ok=True)\n",
    "\n",
    "with open(os.path.join(kayit_klasoru, \"lemma_tf_idf_vectorizer.pkl\"), \"wb\") as f:\n",
    "    pickle.dump(vectorizer, f)\n",
    "\n",
    "with open(os.path.join(kayit_klasoru, \"lemma_tf_idf_matrix.pkl\"), \"wb\") as f:\n",
    "    pickle.dump(tfidf_matrix, f)\n",
    "\n",
    "# 5. Özellik isimlerini al\n",
    "feature_names = vectorizer.get_feature_names_out()\n",
    "\n",
    "# 6. İlk satırdaki en yüksek 5 TF-IDF skoruna sahip kelimeyi bul (seyrek matris ile)\n",
    "first_row = tfidf_matrix[0]  # bu satır seyrek (sparse) formda\n",
    "nonzero_indices = first_row.indices\n",
    "nonzero_values = first_row.data\n",
    "\n",
    "top5_indices = np.argsort(nonzero_values)[-5:][::-1]\n",
    "top5_words = [(feature_names[nonzero_indices[i]], nonzero_values[i]) for i in top5_indices]\n",
    "\n",
    "print(\"İlk tweet'te en yüksek TF-IDF skoruna sahip 5 kelime:\")\n",
    "for word, score in top5_words:\n",
    "    print(f\"{word}: {score:.4f}\")\n",
    "\n",
    "# 7. Örnek bir kelime için benzerlik kontrolü (seyrek matrisle ve toarray kullanmadan)\n",
    "kelime = 'year'\n",
    "if kelime in feature_names:\n",
    "    kelime_index = feature_names.tolist().index(kelime)\n",
    "    kelime_vector = tfidf_matrix[:, kelime_index].T  # tek kelime vektörü (transpose edildi)\n",
    "    \n",
    "    # TF-IDF matrisinin sütunlarıyla (diğer kelimelerle) benzerliğini hesapla\n",
    "    similarities = cosine_similarity(kelime_vector, tfidf_matrix.T).flatten()\n",
    "    top_5_indices = similarities.argsort()[-6:][::-1]  # kendisi dahil\n",
    "\n",
    "    print(f\"\\n'{kelime}' kelimesine en benzer 5 kelime (cosine similarity):\")\n",
    "    for index in top_5_indices:\n",
    "        print(f\"{feature_names[index]}: {similarities[index]:.4f}\")\n",
    "else:\n",
    "    print(f\"'{kelime}' kelimesi TF-IDF vektörlerinde bulunamadı.\")\n"
   ]
  },
  {
   "cell_type": "code",
   "execution_count": 14,
   "id": "17865721-6134-4f2d-8765-245db8016e23",
   "metadata": {},
   "outputs": [
    {
     "name": "stdout",
     "output_type": "stream",
     "text": [
      "İlk stemmed tweet'te en yüksek TF-IDF skoruna sahip 5 kelime:\n",
      "sugar: 0.6402\n",
      "daddi: 0.6085\n",
      "year: 0.3593\n",
      "get: 0.3014\n",
      "\n",
      "'year' kelimesine en benzer 5 kelime (cosine similarity):\n",
      "year: 1.0000\n",
      "ago: 0.1816\n",
      "old: 0.1369\n",
      "new: 0.1212\n",
      "happi: 0.0955\n",
      "last: 0.0837\n"
     ]
    }
   ],
   "source": [
    "import pandas as pd\n",
    "from sklearn.feature_extraction.text import TfidfVectorizer\n",
    "from sklearn.metrics.pairwise import cosine_similarity\n",
    "import pickle\n",
    "import os\n",
    "import numpy as np\n",
    "\n",
    "# 1. Veri setini oku\n",
    "dosya_yolu = r\"C:\\Users\\hukus\\Downloads\\datasett\\lemma_stem_dataset.csv\"\n",
    "df = pd.read_csv(dosya_yolu)\n",
    "\n",
    "# 2. Stem edilmiş tweet'leri al\n",
    "stemmed_texts = df['content_stem'].astype(str).tolist()\n",
    "\n",
    "# 3. TF-IDF vektörizerı başlat ve eğit\n",
    "vectorizer = TfidfVectorizer()\n",
    "tfidf_matrix = vectorizer.fit_transform(stemmed_texts)\n",
    "\n",
    "# Not: TF-IDF matrisi büyük olduğu için hata verdi bundan dolayı\"seyrek matris\" (sparse matrix) olarak tuttum.\n",
    "# Bu, bellekte sadece sıfır olmayan değerlerin tutulmasını sağlar. Böylece hafıza kullanımı ciddi oranda azalır.\n",
    "\n",
    "# 4. Modeli ve vektörleri kaydet\n",
    "kayit_klasoru = \"tf_idf_models\"\n",
    "os.makedirs(kayit_klasoru, exist_ok=True)\n",
    "\n",
    "with open(os.path.join(kayit_klasoru, \"stem_tf_idf_vectorizer.pkl\"), \"wb\") as f:\n",
    "    pickle.dump(vectorizer, f)\n",
    "\n",
    "with open(os.path.join(kayit_klasoru, \"stem_tf_idf_matrix.pkl\"), \"wb\") as f:\n",
    "    pickle.dump(tfidf_matrix, f)\n",
    "\n",
    "# 5. Özellik isimlerini al\n",
    "feature_names = vectorizer.get_feature_names_out()\n",
    "\n",
    "# 6. İlk satırdaki en yüksek 5 TF-IDF skoruna sahip kelimeyi bul\n",
    "first_row = tfidf_matrix[0]\n",
    "nonzero_indices = first_row.indices\n",
    "nonzero_values = first_row.data\n",
    "\n",
    "top5_indices = np.argsort(nonzero_values)[-5:][::-1]\n",
    "top5_words = [(feature_names[nonzero_indices[i]], nonzero_values[i]) for i in top5_indices]\n",
    "\n",
    "print(\"İlk stemmed tweet'te en yüksek TF-IDF skoruna sahip 5 kelime:\")\n",
    "for word, score in top5_words:\n",
    "    print(f\"{word}: {score:.4f}\")\n",
    "\n",
    "# 7. Örnek bir kelime için benzerlik kontrolü\n",
    "kelime = 'year'\n",
    "if kelime in feature_names:\n",
    "    kelime_index = feature_names.tolist().index(kelime)\n",
    "    kelime_vector = tfidf_matrix[:, kelime_index].T\n",
    "\n",
    "    similarities = cosine_similarity(kelime_vector, tfidf_matrix.T).flatten()\n",
    "    top_5_indices = similarities.argsort()[-6:][::-1]\n",
    "\n",
    "    print(f\"\\n'{kelime}' kelimesine en benzer 5 kelime (cosine similarity):\")\n",
    "    for index in top_5_indices:\n",
    "        print(f\"{feature_names[index]}: {similarities[index]:.4f}\")\n",
    "else:\n",
    "    print(f\"'{kelime}' kelimesi TF-IDF vektörlerinde bulunamadı.\")\n"
   ]
  },
  {
   "cell_type": "code",
   "execution_count": 8,
   "id": "758112a2-4102-4c74-973e-7702bff7dc81",
   "metadata": {},
   "outputs": [
    {
     "name": "stdout",
     "output_type": "stream",
     "text": [
      "HAM VERİ ANALİZ BİLGİLERİ:\n",
      "• Toplam kelime sayısı (token): 8471651\n",
      "• Farklı kelime sayısı (type): 594344\n",
      "• En sık geçen ilk 10 kelime:\n",
      "   1. the → 271431 kez\n",
      "   2. to → 194666 kez\n",
      "   3. i → 175106 kez\n",
      "   4. a → 162904 kez\n",
      "   5. and → 147976 kez\n",
      "   6. of → 113349 kez\n",
      "   7. is → 104183 kez\n",
      "   8. in → 104017 kez\n",
      "   9. for → 93322 kez\n",
      "   10. you → 84300 kez\n"
     ]
    },
    {
     "data": {
      "image/png": "[encoded data removed]",
      "text/plain": [
       "<Figure size 1000x600 with 1 Axes>"
      ]
     },
     "metadata": {},
     "output_type": "display_data"
    }
   ],
   "source": [
    "import pandas as pd\n",
    "import matplotlib.pyplot as plt\n",
    "import numpy as np\n",
    "import re\n",
    "from collections import Counter\n",
    "\n",
    "# Dosyayı oku\n",
    "df = pd.read_csv(r\"C:\\Users\\hukus\\Downloads\\datasett\\dataset_temiz.csv\")\n",
    "\n",
    "# Sadece content sütununu kullan\n",
    "texts = df['content'].astype(str).tolist()\n",
    "\n",
    "# Tüm içerikleri tek bir metin haline getir\n",
    "full_text = ' '.join(texts)\n",
    "\n",
    "# Küçük harfe çevir, noktalama işaretlerini temizle\n",
    "full_text = re.sub(r'[^\\w\\s]', '', full_text.lower())\n",
    "\n",
    "# Kelimelere ayır\n",
    "words = full_text.split()\n",
    "\n",
    "# Kelime frekanslarını hesapla\n",
    "word_counts = Counter(words)\n",
    "\n",
    "# En sık geçen kelimeleri frekanslarına göre sırala\n",
    "sorted_word_counts = sorted(word_counts.items(), key=lambda x: x[1], reverse=True)\n",
    "\n",
    "# ANALİZ ÇIKTILARI\n",
    "print(\"HAM VERİ ANALİZ BİLGİLERİ:\")\n",
    "print(f\"• Toplam kelime sayısı (token): {len(words)}\")\n",
    "print(f\"• Farklı kelime sayısı (type): {len(word_counts)}\")\n",
    "print(\"• En sık geçen ilk 10 kelime:\")\n",
    "for i, (word, freq) in enumerate(sorted_word_counts[:10], 1):\n",
    "    print(f\"   {i}. {word} → {freq} kez\")\n",
    "\n",
    "# Zipf grafiği için verileri hazırla\n",
    "frequencies = [freq for word, freq in sorted_word_counts]\n",
    "ranks = range(1, len(frequencies) + 1)\n",
    "\n",
    "# Log-log grafiği çiz\n",
    "plt.figure(figsize=(10, 6))\n",
    "plt.plot(np.log(ranks), np.log(frequencies), marker='o', linestyle='none', color='darkblue')\n",
    "plt.title(\"Zipf Yasası: Log-Log Frekans Grafiği\", fontsize=14)\n",
    "plt.xlabel(\"log(Sıralama - Rank)\", fontsize=12)\n",
    "plt.ylabel(\"log(Frekans)\", fontsize=12)\n",
    "plt.grid(True)\n",
    "plt.tight_layout()\n",
    "plt.show()\n"
   ]
  },
  {
   "cell_type": "code",
   "execution_count": 5,
   "id": "71776221-355e-425b-838d-078b8660df7e",
   "metadata": {},
   "outputs": [
    {
     "data": {
      "image/png": "[encoded data removed]",
      "text/plain": [
       "<Figure size 1000x600 with 1 Axes>"
      ]
     },
     "metadata": {},
     "output_type": "display_data"
    },
    {
     "name": "stdout",
     "output_type": "stream",
     "text": [
      "\n",
      " Lemma Verisi:\n",
      "- Toplam kelime sayısı: 4273435\n",
      "- Farklı kelime sayısı: 179385\n",
      "- İlk 10 kelime ve frekansı: [('like', 35730), ('one', 25429), ('get', 25112), ('time', 23595), ('dont', 21966), ('day', 21597), ('love', 20507), ('good', 19397), ('people', 18059), ('amp', 17959)]\n"
     ]
    },
    {
     "data": {
      "image/png": "[encoded data removed]",
      "text/plain": [
       "<Figure size 1000x600 with 1 Axes>"
      ]
     },
     "metadata": {},
     "output_type": "display_data"
    },
    {
     "name": "stdout",
     "output_type": "stream",
     "text": [
      "\n",
      " Stem Verisi:\n",
      "- Toplam kelime sayısı: 4273435\n",
      "- Farklı kelime sayısı: 153032\n",
      "- İlk 10 kelime ve frekansı: [('like', 37272), ('get', 31816), ('one', 25436), ('time', 23839), ('love', 23323), ('dont', 21976), ('day', 21608), ('good', 19656), ('make', 18138), ('peopl', 18063)]\n"
     ]
    }
   ],
   "source": [
    "import pandas as pd\n",
    "import matplotlib.pyplot as plt\n",
    "from collections import Counter\n",
    "import numpy as np\n",
    "\n",
    "# Dosya yolu\n",
    "file_path = r\"C:\\Users\\hukus\\Downloads\\datasett\\lemma_stem_dataset.csv\"\n",
    "\n",
    "# CSV dosyasını oku\n",
    "df = pd.read_csv(file_path)\n",
    "\n",
    "def zipf_analysis(text_series, title_suffix):\n",
    "    # Tüm metinleri birleştir\n",
    "    all_text = ' '.join(text_series.astype(str))\n",
    "    words = all_text.split()\n",
    "\n",
    "    # Frekansları say\n",
    "    word_freq = Counter(words)\n",
    "    frequencies = sorted(word_freq.values(), reverse=True)\n",
    "\n",
    "    # Log-log verileri\n",
    "    ranks = np.arange(1, len(frequencies) + 1)\n",
    "    log_ranks = np.log(ranks)\n",
    "    log_freqs = np.log(frequencies)\n",
    "\n",
    "    # Grafik çizimi\n",
    "    plt.figure(figsize=(10, 6))\n",
    "    plt.plot(log_ranks, log_freqs, marker='o', linestyle='none', markersize=3, color='darkred')\n",
    "    plt.title(f\"Zipf Yasası: {title_suffix} - Log-Log Frekans Grafiği\")\n",
    "    plt.xlabel(\"log(Sıralama - Rank)\")\n",
    "    plt.ylabel(\"log(Frekans)\")\n",
    "    plt.grid(True)\n",
    "    plt.show()\n",
    "\n",
    "    print(f\"\\n {title_suffix} Verisi:\")\n",
    "    print(f\"- Toplam kelime sayısı: {len(words)}\")\n",
    "    print(f\"- Farklı kelime sayısı: {len(word_freq)}\")\n",
    "    print(f\"- İlk 10 kelime ve frekansı: {word_freq.most_common(10)}\")\n",
    "    return word_freq\n",
    "\n",
    "# Analizi çalıştır\n",
    "lemma_freq = zipf_analysis(df['content_lemma'], \"Lemma\")\n",
    "stem_freq = zipf_analysis(df['content_stem'], \"Stem\")\n"
   ]
  },
  {
   "cell_type": "code",
   "execution_count": null,
   "id": "925e6d8b-73d5-4a03-9a17-a7bdbb3c4b08",
   "metadata": {},
   "outputs": [],
   "source": []
  },
  {
   "cell_type": "code",
   "execution_count": null,
   "id": "b2c4e379-d591-448d-af5f-0977a91972ba",
   "metadata": {},
   "outputs": [],
   "source": []
  }
 ],
 "metadata": {
  "kernelspec": {
   "display_name": "Python 3 (ipykernel)",
   "language": "python",
   "name": "python3"
  },
  "language_info": {
   "codemirror_mode": {
    "name": "ipython",
    "version": 3
   },
   "file_extension": ".py",
   "mimetype": "text/x-python",
   "name": "python",
   "nbconvert_exporter": "python",
   "pygments_lexer": "ipython3",
   "version": "3.11.7"
  }
 },
 "nbformat": 4,
 "nbformat_minor": 5
}
